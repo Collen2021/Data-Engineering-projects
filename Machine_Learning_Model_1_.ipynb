{
  "nbformat": 4,
  "nbformat_minor": 0,
  "metadata": {
    "colab": {
      "provenance": [],
      "authorship_tag": "ABX9TyNKQEdM5whxJ/LYvjIMYUSW",
      "include_colab_link": true
    },
    "kernelspec": {
      "name": "python3",
      "display_name": "Python 3"
    },
    "language_info": {
      "name": "python"
    }
  },
  "cells": [
    {
      "cell_type": "markdown",
      "metadata": {
        "id": "view-in-github",
        "colab_type": "text"
      },
      "source": [
        "<a href=\"https://colab.research.google.com/github/Collen2021/Data-Engineering-projects/blob/main/Machine_Learning_Model_1_.ipynb\" target=\"_parent\"><img src=\"https://colab.research.google.com/assets/colab-badge.svg\" alt=\"Open In Colab\"/></a>"
      ]
    },
    {
      "cell_type": "code",
      "execution_count": null,
      "metadata": {
        "id": "6mkgN4b0UZHr"
      },
      "outputs": [],
      "source": []
    },
    {
      "cell_type": "markdown",
      "source": [
        "Machine learning models"
      ],
      "metadata": {
        "id": "eG3XHM-XUz_a"
      }
    },
    {
      "cell_type": "code",
      "source": [],
      "metadata": {
        "id": "H_lb35CNUzjz"
      },
      "execution_count": null,
      "outputs": []
    }
  ]
}