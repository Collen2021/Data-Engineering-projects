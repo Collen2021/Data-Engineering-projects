{
 "cells": [
  {
   "cell_type": "code",
   "execution_count": 113,
   "id": "439dd85a",
   "metadata": {},
   "outputs": [],
   "source": [
    "import boto3\n",
    "import pandas as pd\n",
    "import psycopg2\n",
    "import json"
   ]
  },
  {
   "cell_type": "code",
   "execution_count": 183,
   "id": "af3a8860",
   "metadata": {},
   "outputs": [],
   "source": [
    "import configparser\n",
    "config = configparser.ConfigParser()\n",
    "config.read_file(open('cluster.config'))"
   ]
  },
  {
   "cell_type": "code",
   "execution_count": 184,
   "id": "2a78995a",
   "metadata": {},
   "outputs": [],
   "source": [
    "#Checking the AWS parameters\n",
    "KEY = config.get(\"AWS\", \"KEY\")\n",
    "SECRET = config.get(\"AWS\", \"SECRET\")\n",
    "\n",
    "#Checking the DWH parameters\n",
    "DWH_CLUSTER_TYPE = config.get(\"DWH\", \"DWH_CLUSTER_TYPE\")\n",
    "DWH_NUM_NODES = config.get(\"DWH\", \"DWH_NUM_NODES\")\n",
    "DWH_NODE_TYPE = config.get(\"DWH\", \"DWH_NODE_TYPE\")\n",
    "DWH_CLUSTER_IDENTIFIER = config.get(\"DWH\", \"DWH_CLUSTER_IDENTIFIER\")\n",
    "DWH_DB = config.get(\"DWH\", \"DWH_DB\")\n",
    "DWH_DB_USER = config.get(\"DWH\", \"DWH_DB_USER\")\n",
    "DWH_DB_PASSWORD = config.get(\"DWH\", \"DWH_DB_PASSWORD\")\n",
    "DWH_PORT = config.get(\"DWH\", \"DWH_PORT\")\n",
    "DWH_IAM_ROLE_NAME = config.get(\"DWH\", \"DWH_IAM_ROLE_NAME\")"
   ]
  },
  {
   "cell_type": "code",
   "execution_count": 185,
   "id": "d76b72d7",
   "metadata": {},
   "outputs": [
    {
     "data": {
      "text/html": [
       "<div>\n",
       "<style scoped>\n",
       "    .dataframe tbody tr th:only-of-type {\n",
       "        vertical-align: middle;\n",
       "    }\n",
       "\n",
       "    .dataframe tbody tr th {\n",
       "        vertical-align: top;\n",
       "    }\n",
       "\n",
       "    .dataframe thead th {\n",
       "        text-align: right;\n",
       "    }\n",
       "</style>\n",
       "<table border=\"1\" class=\"dataframe\">\n",
       "  <thead>\n",
       "    <tr style=\"text-align: right;\">\n",
       "      <th></th>\n",
       "      <th>Parameter</th>\n",
       "      <th>Value</th>\n",
       "    </tr>\n",
       "  </thead>\n",
       "  <tbody>\n",
       "    <tr>\n",
       "      <th>0</th>\n",
       "      <td>DWH_CLUSTER_TYPE</td>\n",
       "      <td>single-node</td>\n",
       "    </tr>\n",
       "    <tr>\n",
       "      <th>1</th>\n",
       "      <td>DWH_NUM_NODES</td>\n",
       "      <td>1</td>\n",
       "    </tr>\n",
       "    <tr>\n",
       "      <th>2</th>\n",
       "      <td>DWH_NODE_TYPE</td>\n",
       "      <td>dc2.large</td>\n",
       "    </tr>\n",
       "    <tr>\n",
       "      <th>3</th>\n",
       "      <td>DWH_CLUSTER_IDENTIFIER</td>\n",
       "      <td>myredshift-cluster-1</td>\n",
       "    </tr>\n",
       "    <tr>\n",
       "      <th>4</th>\n",
       "      <td>DWH_DB</td>\n",
       "      <td>myfirstdb</td>\n",
       "    </tr>\n",
       "    <tr>\n",
       "      <th>5</th>\n",
       "      <td>DWH_DB_USER</td>\n",
       "      <td>awsuser</td>\n",
       "    </tr>\n",
       "    <tr>\n",
       "      <th>6</th>\n",
       "      <td>DWH_DB_PASSWORD</td>\n",
       "      <td>Aw$u$er2023</td>\n",
       "    </tr>\n",
       "    <tr>\n",
       "      <th>7</th>\n",
       "      <td>DWH_PORT</td>\n",
       "      <td>5439</td>\n",
       "    </tr>\n",
       "    <tr>\n",
       "      <th>8</th>\n",
       "      <td>DWH_IAM_ROLE_NAME</td>\n",
       "      <td>redshift-s3-access</td>\n",
       "    </tr>\n",
       "  </tbody>\n",
       "</table>\n",
       "</div>"
      ],
      "text/plain": [
       "                Parameter                 Value\n",
       "0  DWH_CLUSTER_TYPE        single-node         \n",
       "1  DWH_NUM_NODES           1                   \n",
       "2  DWH_NODE_TYPE           dc2.large           \n",
       "3  DWH_CLUSTER_IDENTIFIER  myredshift-cluster-1\n",
       "4  DWH_DB                  myfirstdb           \n",
       "5  DWH_DB_USER             awsuser             \n",
       "6  DWH_DB_PASSWORD         Aw$u$er2023         \n",
       "7  DWH_PORT                5439                \n",
       "8  DWH_IAM_ROLE_NAME       redshift-s3-access  "
      ]
     },
     "execution_count": 185,
     "metadata": {},
     "output_type": "execute_result"
    }
   ],
   "source": [
    "#Checking the DWH parameters and summarizing them in a dataframe\n",
    "pd.DataFrame(\n",
    "{\n",
    "    \"Parameter\": [\"DWH_CLUSTER_TYPE\", \"DWH_NUM_NODES\",\n",
    "                  \"DWH_NODE_TYPE\", \"DWH_CLUSTER_IDENTIFIER\",\n",
    "                  \"DWH_DB\", \"DWH_DB_USER\", \"DWH_DB_PASSWORD\", \n",
    "                  \"DWH_PORT\", \"DWH_IAM_ROLE_NAME\"],\n",
    "    \"Value\": [DWH_CLUSTER_TYPE, DWH_NUM_NODES, \n",
    "              DWH_NODE_TYPE, DWH_CLUSTER_IDENTIFIER, \n",
    "              DWH_DB, DWH_DB_USER, DWH_DB_PASSWORD, \n",
    "              DWH_PORT,DWH_IAM_ROLE_NAME]\n",
    "}\n",
    ")"
   ]
  },
  {
   "cell_type": "code",
   "execution_count": 186,
   "id": "3d1cce87",
   "metadata": {},
   "outputs": [],
   "source": [
    "#creating the object for ec2 \n",
    "#The EC2 will be used to attach the VPC and the security group to the cluster\n",
    "ec2 = boto3.resource('ec2',\n",
    "                    region_name = \"us-east-1\",\n",
    "                     aws_access_key_id = KEY,\n",
    "                     aws_secret_access_key = SECRET\n",
    "                    )\n",
    "\n",
    "#creating the object for s3\n",
    "s3 = boto3.resource('s3',\n",
    "                    region_name = \"us-east-1\",\n",
    "                     aws_access_key_id = KEY,\n",
    "                     aws_secret_access_key = SECRET\n",
    "                    )\n",
    "\n",
    "#creating the object for iam\n",
    "iam= boto3.client('iam',\n",
    "                    region_name = \"us-east-1\",\n",
    "                     aws_access_key_id = KEY,\n",
    "                     aws_secret_access_key = SECRET\n",
    "                    )\n",
    "\n",
    "#creating the object for redshift\n",
    "redshift= boto3.client('redshift',\n",
    "                    region_name = \"us-east-1\",\n",
    "                     aws_access_key_id = KEY,\n",
    "                     aws_secret_access_key = SECRET\n",
    "                    )"
   ]
  },
  {
   "cell_type": "code",
   "execution_count": 187,
   "id": "027237e5",
   "metadata": {},
   "outputs": [
    {
     "data": {
      "text/plain": [
       "['2022Capture.JPG',\n",
       " 'allevents_pipe.txt',\n",
       " 'allusers_pipe.txt',\n",
       " 'bucketfile.txt',\n",
       " 'category_pipe.txt',\n",
       " 'date2008_pipe.txt',\n",
       " 'listings_pipe.txt',\n",
       " 'sales_tab.txt',\n",
       " 'venue_pipe.txt']"
      ]
     },
     "execution_count": 187,
     "metadata": {},
     "output_type": "execute_result"
    }
   ],
   "source": [
    "#checking the files in the s3 bucket\n",
    "mybucket = s3.Bucket(\"collen-bucket1\")\n",
    "my_data_files = [filename.key for filename in mybucket.objects.filter(Prefix = '')] #empty prefix returns all the files, it does not filter really\n",
    "my_data_files # the displayed files are just objects in the bucket"
   ]
  },
  {
   "cell_type": "code",
   "execution_count": 205,
   "id": "52ca3c99",
   "metadata": {},
   "outputs": [
    {
     "data": {
      "text/plain": [
       "'arn:aws:iam::934595983067:role/redshift-s3-access'"
      ]
     },
     "execution_count": 205,
     "metadata": {},
     "output_type": "execute_result"
    }
   ],
   "source": [
    "#Checking the roleArn\n",
    "roleArn = iam.get_role(RoleName = DWH_IAM_ROLE_NAME)['Role']['Arn']\n",
    "roleArn"
   ]
  },
  {
   "cell_type": "code",
   "execution_count": 189,
   "id": "6aa5218f",
   "metadata": {},
   "outputs": [
    {
     "name": "stdout",
     "output_type": "stream",
     "text": [
      "An error occurred (ClusterAlreadyExists) when calling the CreateCluster operation: Cluster already exists\n"
     ]
    }
   ],
   "source": [
    "try:\n",
    "    response = redshift.create_cluster(\n",
    "    ClusterType=DWH_CLUSTER_TYPE,\n",
    "    NodeType = DWH_NODE_TYPE,\n",
    "    \n",
    "    #Identifier & Credentials\n",
    "    DBName = DWH_DB,\n",
    "    ClusterIdentifier = DWH_CLUSTER_IDENTIFIER,\n",
    "    MasterUsername = DWH_DB_USER,\n",
    "    MasterUserPassword = DWH_DB_PASSWORD,\n",
    "        \n",
    "    #Roles for S3 Access\n",
    "    IamRoles = [roleArn]\n",
    "    )\n",
    "except Exception as e:\n",
    "    print(e)"
   ]
  },
  {
   "cell_type": "code",
   "execution_count": 190,
   "id": "676d2223",
   "metadata": {},
   "outputs": [
    {
     "data": {
      "text/plain": [
       "'myfirstdb'"
      ]
     },
     "execution_count": 190,
     "metadata": {},
     "output_type": "execute_result"
    }
   ],
   "source": [
    "DWH_DB"
   ]
  },
  {
   "cell_type": "code",
   "execution_count": 204,
   "id": "43667d6b",
   "metadata": {},
   "outputs": [
    {
     "data": {
      "text/plain": [
       "{'ClusterIdentifier': 'myredshift-cluster-1',\n",
       " 'NodeType': 'dc2.large',\n",
       " 'ClusterStatus': 'available',\n",
       " 'ClusterAvailabilityStatus': 'Available',\n",
       " 'MasterUsername': 'awsuser',\n",
       " 'DBName': 'dev',\n",
       " 'Endpoint': {'Address': 'myredshift-cluster-1.cxbltfig3ytx.us-east-1.redshift.amazonaws.com',\n",
       "  'Port': 5439},\n",
       " 'ClusterCreateTime': datetime.datetime(2023, 1, 23, 15, 32, 22, 469000, tzinfo=tzutc()),\n",
       " 'AutomatedSnapshotRetentionPeriod': 1,\n",
       " 'ManualSnapshotRetentionPeriod': -1,\n",
       " 'ClusterSecurityGroups': [],\n",
       " 'VpcSecurityGroups': [{'VpcSecurityGroupId': 'sg-0ea156f9dbea8a67b',\n",
       "   'Status': 'active'}],\n",
       " 'ClusterParameterGroups': [{'ParameterGroupName': 'default.redshift-1.0',\n",
       "   'ParameterApplyStatus': 'in-sync'}],\n",
       " 'ClusterSubnetGroupName': 'default',\n",
       " 'VpcId': 'vpc-08965f21d85699538',\n",
       " 'AvailabilityZone': 'us-east-1e',\n",
       " 'PreferredMaintenanceWindow': 'thu:04:30-thu:05:00',\n",
       " 'PendingModifiedValues': {},\n",
       " 'ClusterVersion': '1.0',\n",
       " 'AllowVersionUpgrade': True,\n",
       " 'NumberOfNodes': 1,\n",
       " 'PubliclyAccessible': True,\n",
       " 'Encrypted': False,\n",
       " 'RestoreStatus': {'Status': 'completed',\n",
       "  'CurrentRestoreRateInMegaBytesPerSecond': 0.8151898734177215,\n",
       "  'SnapshotSizeInMegaBytes': 322,\n",
       "  'ProgressInMegaBytes': 322,\n",
       "  'ElapsedTimeInSeconds': 395,\n",
       "  'EstimatedTimeToCompletionInSeconds': 0},\n",
       " 'ClusterPublicKey': 'ssh-rsa AAAAB3NzaC1yc2EAAAADAQABAAABAQDnrCKbDEqWAjvaVIk+jsg5RYGignhcr5j2zSvBbJsYjOfrEoTaFHUbTF7okviZLewYYSKZFqIoxPzHNNGB1wHUEdZ/IsuMweKvvWV//lgG+syErVhS07R68jWWMquyiPxLCrcwKgwic6Ef/WqNQ/RZ+zCzZ04iOJ6/expEKc+kIhO+knxyHEyLDdwEYFoemjx9w3w6mtAFdQRhKIHVkDg6fbQrRVTSrmUrgiehCXvH65iAFSRfwOKqCPYfqD+UemMBvy6d31i6/aTQ+jCW4qiWAGO5r1eioX6RNTADWFLTg6yXTmQZVtjrtJHzbfhvSPoh68+7WZJy0GPfIALUgFYl Amazon-Redshift\\n',\n",
       " 'ClusterNodes': [{'NodeRole': 'SHARED',\n",
       "   'PrivateIPAddress': '172.31.51.87',\n",
       "   'PublicIPAddress': '52.86.40.166'}],\n",
       " 'ClusterRevisionNumber': '44903',\n",
       " 'Tags': [],\n",
       " 'EnhancedVpcRouting': False,\n",
       " 'IamRoles': [],\n",
       " 'MaintenanceTrackName': 'current',\n",
       " 'DeferredMaintenanceWindows': [],\n",
       " 'NextMaintenanceWindowStartTime': datetime.datetime(2023, 1, 26, 4, 30, tzinfo=tzutc()),\n",
       " 'AvailabilityZoneRelocationStatus': 'disabled',\n",
       " 'ClusterNamespaceArn': 'arn:aws:redshift:us-east-1:934595983067:namespace:177d97ed-3e92-4a27-b45e-b0fb93977c74',\n",
       " 'TotalStorageCapacityInMegaBytes': 400000,\n",
       " 'AquaConfiguration': {'AquaStatus': 'disabled',\n",
       "  'AquaConfigurationStatus': 'auto'}}"
      ]
     },
     "execution_count": 204,
     "metadata": {},
     "output_type": "execute_result"
    }
   ],
   "source": [
    "redshift.describe_clusters(ClusterIdentifier = DWH_CLUSTER_IDENTIFIER)[\"Clusters\"][0]"
   ]
  },
  {
   "cell_type": "code",
   "execution_count": 203,
   "id": "564a4942",
   "metadata": {},
   "outputs": [
    {
     "name": "stderr",
     "output_type": "stream",
     "text": [
      "<ipython-input-203-0e6dbdacdb6a>:2: FutureWarning: Passing a negative integer is deprecated in version 1.0 and will not be supported in future version. Instead, use None to not limit the column width.\n",
      "  pd.set_option('display.max_colwidth', -1)\n"
     ]
    },
    {
     "data": {
      "text/html": [
       "<div>\n",
       "<style scoped>\n",
       "    .dataframe tbody tr th:only-of-type {\n",
       "        vertical-align: middle;\n",
       "    }\n",
       "\n",
       "    .dataframe tbody tr th {\n",
       "        vertical-align: top;\n",
       "    }\n",
       "\n",
       "    .dataframe thead th {\n",
       "        text-align: right;\n",
       "    }\n",
       "</style>\n",
       "<table border=\"1\" class=\"dataframe\">\n",
       "  <thead>\n",
       "    <tr style=\"text-align: right;\">\n",
       "      <th></th>\n",
       "      <th>Key</th>\n",
       "      <th>Value</th>\n",
       "    </tr>\n",
       "  </thead>\n",
       "  <tbody>\n",
       "    <tr>\n",
       "      <th>0</th>\n",
       "      <td>ClusterIdentifier</td>\n",
       "      <td>myredshift-cluster-1</td>\n",
       "    </tr>\n",
       "    <tr>\n",
       "      <th>1</th>\n",
       "      <td>NodeType</td>\n",
       "      <td>dc2.large</td>\n",
       "    </tr>\n",
       "    <tr>\n",
       "      <th>2</th>\n",
       "      <td>ClusterStatus</td>\n",
       "      <td>available</td>\n",
       "    </tr>\n",
       "    <tr>\n",
       "      <th>3</th>\n",
       "      <td>ClusterAvailabilityStatus</td>\n",
       "      <td>Available</td>\n",
       "    </tr>\n",
       "    <tr>\n",
       "      <th>4</th>\n",
       "      <td>MasterUsername</td>\n",
       "      <td>awsuser</td>\n",
       "    </tr>\n",
       "    <tr>\n",
       "      <th>5</th>\n",
       "      <td>DBName</td>\n",
       "      <td>dev</td>\n",
       "    </tr>\n",
       "    <tr>\n",
       "      <th>6</th>\n",
       "      <td>Endpoint</td>\n",
       "      <td>{'Address': 'myredshift-cluster-1.cxbltfig3ytx.us-east-1.redshift.amazonaws.com', 'Port': 5439}</td>\n",
       "    </tr>\n",
       "    <tr>\n",
       "      <th>7</th>\n",
       "      <td>VpcId</td>\n",
       "      <td>vpc-08965f21d85699538</td>\n",
       "    </tr>\n",
       "    <tr>\n",
       "      <th>8</th>\n",
       "      <td>IamRoles</td>\n",
       "      <td>[]</td>\n",
       "    </tr>\n",
       "  </tbody>\n",
       "</table>\n",
       "</div>"
      ],
      "text/plain": [
       "                         Key  \\\n",
       "0  ClusterIdentifier           \n",
       "1  NodeType                    \n",
       "2  ClusterStatus               \n",
       "3  ClusterAvailabilityStatus   \n",
       "4  MasterUsername              \n",
       "5  DBName                      \n",
       "6  Endpoint                    \n",
       "7  VpcId                       \n",
       "8  IamRoles                    \n",
       "\n",
       "                                                                                             Value  \n",
       "0  myredshift-cluster-1                                                                             \n",
       "1  dc2.large                                                                                        \n",
       "2  available                                                                                        \n",
       "3  Available                                                                                        \n",
       "4  awsuser                                                                                          \n",
       "5  dev                                                                                              \n",
       "6  {'Address': 'myredshift-cluster-1.cxbltfig3ytx.us-east-1.redshift.amazonaws.com', 'Port': 5439}  \n",
       "7  vpc-08965f21d85699538                                                                            \n",
       "8  []                                                                                               "
      ]
     },
     "execution_count": 203,
     "metadata": {},
     "output_type": "execute_result"
    }
   ],
   "source": [
    "def smartRSProps(properties):\n",
    "    pd.set_option('display.max_colwidth', -1)\n",
    "    keysToShow = ['ClusterIdentifier',  'NodeType',\n",
    "  'ClusterStatus',  'ClusterAvailabilityStatus',\n",
    "  'MasterUsername',  'IamRoles','DBName',\n",
    "  'Endpoint',  'VpcId']\n",
    "    x = [(k,v) for k,v in properties.items()  if k in keysToShow]\n",
    "    return pd.DataFrame(data = x, columns = [\"Key\", \"Value\"])\n",
    "\n",
    "myClusterProperties = redshift.describe_clusters(ClusterIdentifier = DWH_CLUSTER_IDENTIFIER)[\"Clusters\"][0]\n",
    "smartRSProps(myClusterProperties)"
   ]
  },
  {
   "cell_type": "code",
   "execution_count": 194,
   "id": "e0032d66",
   "metadata": {},
   "outputs": [],
   "source": [
    "DWH_ENDPOINT = myClusterProperties['Endpoint']['Address']\n",
    "DWH_ROLE_ARN = myClusterProperties['IamRoles']\n",
    "#DWH_ROLE_ARN = myClusterProperties['IamRoles'][0]['IamRoleArn']\n",
    "DB_NAME = myClusterProperties['DBName']\n",
    "DB_USER = myClusterProperties['MasterUsername']"
   ]
  },
  {
   "cell_type": "code",
   "execution_count": 195,
   "id": "0733adf5",
   "metadata": {},
   "outputs": [
    {
     "name": "stdout",
     "output_type": "stream",
     "text": [
      "ec2.SecurityGroup(id='sg-0ea156f9dbea8a67b')\n",
      "An error occurred (InvalidPermission.Duplicate) when calling the AuthorizeSecurityGroupIngress operation: the specified rule \"peer: 0.0.0.0/0, TCP, from port: 5439, to port: 5439, ALLOW\" already exists\n"
     ]
    }
   ],
   "source": [
    "try:\n",
    "    vpc = ec2.Vpc(id =myClusterProperties['VpcId'])\n",
    "    defaultSg = list(vpc.security_groups.all())[0]\n",
    "    print(defaultSg)\n",
    "    \n",
    "    defaultSg.authorize_ingress(\n",
    "        GroupName = defaultSg.group_name,\n",
    "        CidrIp = '0.0.0.0/0',\n",
    "        IpProtocol = 'TCP',\n",
    "        FromPort = int(DWH_PORT),\n",
    "        ToPort = int(DWH_PORT)\n",
    "    )\n",
    "except Exception as e:\n",
    "    print(e)"
   ]
  },
  {
   "cell_type": "code",
   "execution_count": 196,
   "id": "aafea194",
   "metadata": {},
   "outputs": [
    {
     "data": {
      "text/plain": [
       "'awsuser'"
      ]
     },
     "execution_count": 196,
     "metadata": {},
     "output_type": "execute_result"
    }
   ],
   "source": [
    "DB_USER"
   ]
  },
  {
   "cell_type": "code",
   "execution_count": 197,
   "id": "69a59c2d",
   "metadata": {},
   "outputs": [],
   "source": [
    "#Connecting the Redshift cluster using Psycopg2 library\n",
    "try:\n",
    "    conn = psycopg2.connect(host = DWH_ENDPOINT, dbname = DB_NAME, user = DB_USER, password = \"Aw$u$er2023\", port = 5439)\n",
    "except psycopg2.Error as e:\n",
    "    print(\"Error: Failed to connect to the Database\")\n",
    "    print(e)\n",
    "\n",
    "\n",
    "conn.set_session(autocommit = True)"
   ]
  },
  {
   "cell_type": "markdown",
   "id": "db69cc12",
   "metadata": {},
   "source": [
    "#### Create the data model and then create the tables in Redshift"
   ]
  },
  {
   "cell_type": "code",
   "execution_count": 198,
   "id": "41ba3b7c",
   "metadata": {},
   "outputs": [],
   "source": [
    "#Executing a query on the database\n",
    "try:\n",
    "    cur = conn.cursor()\n",
    "except psycopg2.Error as e:\n",
    "    print(\"Error: Could not get the cursor to the Database\")\n",
    "    print(e)"
   ]
  },
  {
   "cell_type": "code",
   "execution_count": 199,
   "id": "17745280",
   "metadata": {},
   "outputs": [
    {
     "name": "stdout",
     "output_type": "stream",
     "text": [
      "Error: Failed to create the table\n",
      "Relation \"category\" already exists\n",
      "\n"
     ]
    }
   ],
   "source": [
    "try:\n",
    "    cur.execute(\"\"\"create table category(\n",
    "    catid integer not null,\n",
    "    catgroup varchar(10),\n",
    "    catname varchar(10),\n",
    "    catdesc varchar(50)\n",
    "     );  \"\"\")\n",
    "except psycopg2.Error as e:\n",
    "    print(\"Error: Failed to create the table\")\n",
    "    print(e)"
   ]
  },
  {
   "cell_type": "code",
   "execution_count": 200,
   "id": "76ae79cf",
   "metadata": {},
   "outputs": [
    {
     "name": "stdout",
     "output_type": "stream",
     "text": [
      "Error: Failed to create the table\n",
      "Relation \"date\" already exists\n",
      "\n"
     ]
    }
   ],
   "source": [
    "try:\n",
    "    cur.execute(\"\"\"create table date(\n",
    "    dateid smallint not null distkey sortkey,\n",
    "    caldate date not null,\n",
    "    day character(3) not null,\n",
    "    week smallint not null,\n",
    "    month character(5) not null,\n",
    "    qtr character(5) not null,\n",
    "    year smallint not null,\n",
    "    holiday boolean default('N')); \"\"\")\n",
    "except psycopg2.Error as e:\n",
    "    print(\"Error: Failed to create the table\")\n",
    "    print(e)"
   ]
  },
  {
   "cell_type": "code",
   "execution_count": 201,
   "id": "8cd67209",
   "metadata": {},
   "outputs": [
    {
     "name": "stdout",
     "output_type": "stream",
     "text": [
      "Error: Failed to create the table\n",
      "Relation \"event\" already exists\n",
      "\n"
     ]
    }
   ],
   "source": [
    "try:\n",
    "    cur.execute(\"\"\"create table event(\n",
    "    eventid integer not null distkey,\n",
    "    venueid smallint not null,\n",
    "    catid smallint not null,\n",
    "    dateid smallint not null sortkey, \n",
    "    eventname varchar(200),\n",
    "    starttime timestamp);\"\"\")\n",
    "except psycopg2.Error as e:\n",
    "    print(\"Error: Failed to create the table\")\n",
    "    print(e)"
   ]
  },
  {
   "cell_type": "code",
   "execution_count": 202,
   "id": "5f87b85f",
   "metadata": {},
   "outputs": [
    {
     "name": "stdout",
     "output_type": "stream",
     "text": [
      "Error: Failed to create the table\n",
      "Relation \"listing\" already exists\n",
      "\n"
     ]
    }
   ],
   "source": [
    "try:\n",
    "    cur.execute(\"\"\"create table listing(\n",
    "    listid integer not null distkey,\n",
    "    sellerid integer not null,\n",
    "    eventid integer not null,\n",
    "    dateid smallint not null sortkey,\n",
    "    numtickets smallint not null,\n",
    "    priceperticket decimal (8,2),\n",
    "    totalprice  decimal (8,2),\n",
    "    listtime timestamp);\"\"\")\n",
    "except psycopg2.Error as e:\n",
    "    print(\"Error: Failed to create the table\")\n",
    "    print(e)"
   ]
  },
  {
   "cell_type": "code",
   "execution_count": 159,
   "id": "950170ea",
   "metadata": {},
   "outputs": [
    {
     "name": "stdout",
     "output_type": "stream",
     "text": [
      "Error: Failed to create the table\n",
      "Relation \"sales\" already exists\n",
      "\n"
     ]
    }
   ],
   "source": [
    "try:\n",
    "    cur.execute(\"\"\"create table sales(\n",
    "    salesid integer not null distkey,\n",
    "    listid integer not null,\n",
    "    sellerid integer not null,\n",
    "    buyerid integer not null,\n",
    "    eventid integer not null,\n",
    "    dateid smallint not null sortkey,\n",
    "    qtysold smallint,\n",
    "    pricepaid decimal (8,2),\n",
    "    commission decimal (8,2),\n",
    "    saletime timestamp);\"\"\")\n",
    "except psycopg2.Error as e:\n",
    "    print(\"Error: Failed to create the table\")\n",
    "    print(e)"
   ]
  },
  {
   "cell_type": "code",
   "execution_count": 141,
   "id": "d0a8eafe",
   "metadata": {},
   "outputs": [
    {
     "name": "stdout",
     "output_type": "stream",
     "text": [
      "Error: Failed to create the table\n",
      "Relation \"users\" already exists\n",
      "\n"
     ]
    }
   ],
   "source": [
    "try:\n",
    "    cur.execute(\"\"\"create table users(\n",
    "    userid integer not null distkey sortkey,\n",
    "    username char(8),\n",
    "    firstname varchar(30),\n",
    "    lastname varchar(30),\n",
    "    city varchar(30),\n",
    "    state char(2),\n",
    "    email varchar(100),\n",
    "    phone char(14),\n",
    "    likesports boolean,\n",
    "    liketheatre boolean,\n",
    "    likeconcerts boolean,\n",
    "    likejazz boolean,\n",
    "    likeclassical boolean,\n",
    "    likeopera boolean,\n",
    "    likerock boolean,\n",
    "    likevegas boolean,\n",
    "    likebroadway boolean,\n",
    "    likemusicals boolean\n",
    "    );  \"\"\")\n",
    "except psycopg2.Error as e:\n",
    "    print(\"Error: Failed to create the table\")\n",
    "    print(e)"
   ]
  },
  {
   "cell_type": "code",
   "execution_count": 160,
   "id": "06d83ca6",
   "metadata": {},
   "outputs": [
    {
     "name": "stdout",
     "output_type": "stream",
     "text": [
      "Error: Failed to create the table\n",
      "Relation \"venue\" already exists\n",
      "\n"
     ]
    }
   ],
   "source": [
    "try:\n",
    "    cur.execute(\"\"\"create table venue(\n",
    "    venueid smallint not null distkey sortkey,\n",
    "    venuename varchar(100),\n",
    "    venuecity varchar(30),\n",
    "    venuestate char(2),\n",
    "    venueseats integer); \"\"\")\n",
    "except psycopg2.Error as e:\n",
    "    print(\"Error: Failed to create the table\")\n",
    "    print(e)"
   ]
  },
  {
   "cell_type": "markdown",
   "id": "b3995bfd",
   "metadata": {},
   "source": [
    "#### Copying data from the S3 bucket to Redshift"
   ]
  },
  {
   "cell_type": "code",
   "execution_count": 168,
   "id": "585ac7d9",
   "metadata": {},
   "outputs": [
    {
     "name": "stdout",
     "output_type": "stream",
     "text": [
      "Error: Failed to copy the table\n",
      "exception name : UnauthorizedException, error type : 135, message: The requested role arn:aws:iam::934595983067:role/redshift-s3-access is not associated to cluster, should retry : 0\n",
      "DETAIL:  \n",
      "  -----------------------------------------------\n",
      "  error:  exception name : UnauthorizedException, error type : 135, message: The requested role arn:aws:iam::934595983067:role/redshift-s3-access is not associated to cluster, should retry : 0\n",
      "  code:      30000\n",
      "  context:   \n",
      "  query:     202945\n",
      "  location:  xen_aws_credentials_mgr.cpp:411\n",
      "  process:   padbmaster [pid=1331]\n",
      "  -----------------------------------------------\n",
      "\n",
      "\n"
     ]
    }
   ],
   "source": [
    "#copying and loading the table\n",
    "try:\n",
    "    cur.execute(\"\"\"\n",
    "    copy category from 's3://collen-bucket1/category_pipe.txt'\n",
    "    credentials 'aws_iam_role=arn:aws:iam::934595983067:role/redshift-s3-access'\n",
    "    delimiter '|'\n",
    "    region 'us-east-1'\n",
    "    \"\"\")\n",
    "except psycopg2.Error as e:\n",
    "    print(\"Error: Failed to copy the table\")\n",
    "    print(e)"
   ]
  },
  {
   "cell_type": "code",
   "execution_count": 169,
   "id": "a2af0d9f",
   "metadata": {},
   "outputs": [],
   "source": [
    "#checking the tables and data \n",
    "try:\n",
    "    cur.execute(\"\"\"\n",
    "   select * from category;\n",
    "    \"\"\")\n",
    "except psycopg2.Error as e:\n",
    "    print(\"Error: Failed to copy the table\")\n",
    "    print(e)"
   ]
  },
  {
   "cell_type": "code",
   "execution_count": null,
   "id": "04d6530a",
   "metadata": {},
   "outputs": [],
   "source": [
    "#copying and loading the Date table\n",
    "try:\n",
    "    cur.execute(\"\"\"\n",
    "    copy date from 's3://collen-bucket1/date2008_pipe.txt'\n",
    "    credentials 'aws_iam_role=arn:aws:iam::934595983067:role/redshift-s3-access'\n",
    "    delimiter '|'\n",
    "    region 'us-east-1'\n",
    "    \"\"\")\n",
    "except psycopg2.Error as e:\n",
    "    print(\"Error: Failed to copy the table\")\n",
    "    print(e)"
   ]
  },
  {
   "cell_type": "code",
   "execution_count": null,
   "id": "8864b617",
   "metadata": {},
   "outputs": [],
   "source": [
    "#copying and loading the Event table\n",
    "try:\n",
    "    cur.execute(\"\"\"\n",
    "    copy event from 's3://collen-bucket1/allevents_pipe.txt'\n",
    "    credentials 'aws_iam_role=arn:aws:iam::934595983067:role/redshift-s3-access'\n",
    "    delimiter '|'\n",
    "    region 'us-east-1'\n",
    "    \"\"\")\n",
    "except psycopg2.Error as e:\n",
    "    print(\"Error: Failed to copy the table\")\n",
    "    print(e)"
   ]
  },
  {
   "cell_type": "code",
   "execution_count": null,
   "id": "b6298f60",
   "metadata": {},
   "outputs": [],
   "source": [
    "#copying and loading the Listings table\n",
    "try:\n",
    "    cur.execute(\"\"\"\n",
    "    copy event from 's3://collen-bucket1/listings_pipe.txt'\n",
    "    credentials 'aws_iam_role=arn:aws:iam::934595983067:role/redshift-s3-access'\n",
    "    delimiter '|'\n",
    "    region 'us-east-1'\n",
    "    \"\"\")\n",
    "except psycopg2.Error as e:\n",
    "    print(\"Error: Failed to copy the table\")\n",
    "    print(e)"
   ]
  },
  {
   "cell_type": "code",
   "execution_count": 170,
   "id": "31faa166",
   "metadata": {},
   "outputs": [
    {
     "name": "stdout",
     "output_type": "stream",
     "text": [
      "Error: Failed to copy the table\n",
      "exception name : UnauthorizedException, error type : 135, message: The requested role arn:aws:iam::934595983067:role/redshift-s3-access is not associated to cluster, should retry : 0\n",
      "DETAIL:  \n",
      "  -----------------------------------------------\n",
      "  error:  exception name : UnauthorizedException, error type : 135, message: The requested role arn:aws:iam::934595983067:role/redshift-s3-access is not associated to cluster, should retry : 0\n",
      "  code:      30000\n",
      "  context:   \n",
      "  query:     203099\n",
      "  location:  xen_aws_credentials_mgr.cpp:411\n",
      "  process:   padbmaster [pid=1331]\n",
      "  -----------------------------------------------\n",
      "\n",
      "\n"
     ]
    }
   ],
   "source": [
    "#copying and loading the Sales table\n",
    "try:\n",
    "    cur.execute(\"\"\"\n",
    "    copy event from 's3://collen-bucket1/sales_tab.txt'\n",
    "    credentials 'aws_iam_role=arn:aws:iam::934595983067:role/redshift-s3-access'\n",
    "    delimiter '|'\n",
    "    region 'us-east-1'\n",
    "    \"\"\")\n",
    "except psycopg2.Error as e:\n",
    "    print(\"Error: Failed to copy the table\")\n",
    "    print(e)"
   ]
  },
  {
   "cell_type": "code",
   "execution_count": 179,
   "id": "1e2a0489",
   "metadata": {},
   "outputs": [],
   "source": [
    "#checking the tables and data \n",
    "try:\n",
    "    cur.execute(\"\"\"\n",
    "   select * from category;\n",
    "    \"\"\")\n",
    "except psycopg2.Error as e:\n",
    "    print(\"Error: Failed to copy the table\")\n",
    "    print(e)"
   ]
  },
  {
   "cell_type": "code",
   "execution_count": 180,
   "id": "6d71cef3",
   "metadata": {},
   "outputs": [
    {
     "name": "stdout",
     "output_type": "stream",
     "text": [
      "(2, 'Sports', 'NHL', 'National Hockey League')\n"
     ]
    }
   ],
   "source": [
    "row = cur.fetchone()\n",
    "while row:\n",
    "    print(row)\n",
    "    row = cur.fetchone()\n",
    "    break"
   ]
  },
  {
   "cell_type": "code",
   "execution_count": 206,
   "id": "5e3b22cd",
   "metadata": {},
   "outputs": [],
   "source": [
    "#closing the connections\n",
    "try:\n",
    "   conn.close()\n",
    "except psycopg2.Error as e:\n",
    "    print(\"Error: Failed to close connection\")\n",
    "    print(e)"
   ]
  },
  {
   "cell_type": "code",
   "execution_count": 215,
   "id": "bb6864e9",
   "metadata": {},
   "outputs": [
    {
     "data": {
      "text/plain": [
       "{'Cluster': {'ClusterIdentifier': 'myredshift-cluster-1',\n",
       "  'NodeType': 'dc2.large',\n",
       "  'ClusterStatus': 'deleting',\n",
       "  'ClusterAvailabilityStatus': 'Modifying',\n",
       "  'MasterUsername': 'awsuser',\n",
       "  'DBName': 'dev',\n",
       "  'Endpoint': {'Address': 'myredshift-cluster-1.cxbltfig3ytx.us-east-1.redshift.amazonaws.com',\n",
       "   'Port': 5439},\n",
       "  'ClusterCreateTime': datetime.datetime(2023, 1, 23, 15, 32, 22, 469000, tzinfo=tzutc()),\n",
       "  'AutomatedSnapshotRetentionPeriod': 1,\n",
       "  'ManualSnapshotRetentionPeriod': -1,\n",
       "  'ClusterSecurityGroups': [],\n",
       "  'VpcSecurityGroups': [{'VpcSecurityGroupId': 'sg-0ea156f9dbea8a67b',\n",
       "    'Status': 'active'}],\n",
       "  'ClusterParameterGroups': [{'ParameterGroupName': 'default.redshift-1.0',\n",
       "    'ParameterApplyStatus': 'in-sync'}],\n",
       "  'ClusterSubnetGroupName': 'default',\n",
       "  'VpcId': 'vpc-08965f21d85699538',\n",
       "  'AvailabilityZone': 'us-east-1e',\n",
       "  'PreferredMaintenanceWindow': 'thu:04:30-thu:05:00',\n",
       "  'PendingModifiedValues': {},\n",
       "  'ClusterVersion': '1.0',\n",
       "  'AllowVersionUpgrade': True,\n",
       "  'NumberOfNodes': 1,\n",
       "  'PubliclyAccessible': True,\n",
       "  'Encrypted': False,\n",
       "  'Tags': [],\n",
       "  'EnhancedVpcRouting': False,\n",
       "  'IamRoles': [],\n",
       "  'MaintenanceTrackName': 'current',\n",
       "  'DeferredMaintenanceWindows': [],\n",
       "  'NextMaintenanceWindowStartTime': datetime.datetime(2023, 1, 26, 4, 30, tzinfo=tzutc()),\n",
       "  'TotalStorageCapacityInMegaBytes': 400000,\n",
       "  'AquaConfiguration': {'AquaStatus': 'disabled',\n",
       "   'AquaConfigurationStatus': 'auto'}},\n",
       " 'ResponseMetadata': {'RequestId': 'cd83e68e-6973-4af6-be59-14a0f07e5ae0',\n",
       "  'HTTPStatusCode': 200,\n",
       "  'HTTPHeaders': {'x-amzn-requestid': 'cd83e68e-6973-4af6-be59-14a0f07e5ae0',\n",
       "   'content-type': 'text/xml',\n",
       "   'content-length': '2544',\n",
       "   'date': 'Mon, 23 Jan 2023 22:33:29 GMT'},\n",
       "  'RetryAttempts': 0}}"
      ]
     },
     "execution_count": 215,
     "metadata": {},
     "output_type": "execute_result"
    }
   ],
   "source": [
    "#deleting the cluster\n",
    "redshift.delete_cluster(ClusterIdentifier=DWH_CLUSTER_IDENTIFIER, SkipFinalClusterSnapshot = True)"
   ]
  },
  {
   "cell_type": "code",
   "execution_count": null,
   "id": "d59c72b5",
   "metadata": {},
   "outputs": [],
   "source": []
  }
 ],
 "metadata": {
  "kernelspec": {
   "display_name": "Python 3",
   "language": "python",
   "name": "python3"
  },
  "language_info": {
   "codemirror_mode": {
    "name": "ipython",
    "version": 3
   },
   "file_extension": ".py",
   "mimetype": "text/x-python",
   "name": "python",
   "nbconvert_exporter": "python",
   "pygments_lexer": "ipython3",
   "version": "3.8.8"
  }
 },
 "nbformat": 4,
 "nbformat_minor": 5
}
